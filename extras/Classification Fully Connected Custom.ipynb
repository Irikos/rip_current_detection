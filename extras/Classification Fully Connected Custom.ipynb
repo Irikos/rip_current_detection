{
 "cells": [
  {
   "cell_type": "code",
   "execution_count": null,
   "metadata": {
    "gradient": {
     "editing": false
    }
   },
   "outputs": [],
   "source": [
    "# imports\n",
    "%matplotlib inline\n",
    "%config InlineBackend.figure_format = 'retina'\n",
    "\n",
    "import torch\n",
    "import torchvision\n",
    "import pandas as pd\n",
    "from torch import nn\n",
    "from torch import optim\n",
    "import torch.nn.functional as F\n",
    "from torchvision import datasets, transforms, models\n",
    "from resnet_pytorch import ResNet \n",
    "\n",
    "from PIL import Image\n",
    "# import PIL.Image\n",
    "import os\n",
    "import glob\n",
    "import numpy as np\n",
    "import cv2 as cv\n",
    "import io\n",
    "from IPython.display import clear_output, display\n",
    "from tqdm import tqdm\n",
    "\n",
    "import matplotlib.pyplot as plt\n",
    "import warnings\n",
    "from torch.utils.data.sampler import SubsetRandomSampler\n",
    "from sklearn.metrics import classification_report\n",
    "\n",
    "warnings.filterwarnings('ignore')"
   ]
  },
  {
   "cell_type": "code",
   "execution_count": null,
   "metadata": {
    "gradient": {
     "editing": false
    }
   },
   "outputs": [],
   "source": [
    "### global stuff\n",
    "# DATA_FOLDER:\n",
    "# contains data_labels.txt, with_rips folder images and without_rips folder images\n",
    "DATA_FOLDER = \"./training_data\" \n",
    "images_rip = glob.glob(os.path.join(DATA_FOLDER, \"with_rips/*.png\")) \n",
    "images_norip = glob.glob(os.path.join(DATA_FOLDER, \"without_rips/*.png\")) "
   ]
  },
  {
   "cell_type": "code",
   "execution_count": null,
   "metadata": {
    "gradient": {
     "editing": false
    }
   },
   "outputs": [
    {
     "name": "stdout",
     "output_type": "stream",
     "text": [
      "['with_rips', 'without_rips']\n"
     ]
    }
   ],
   "source": [
    "def data_load_preprocess_split(DATA_FOLDER, split_size = 0.2):\n",
    "    preprocess = transforms.Compose([\n",
    "        transforms.Resize((224, 224)),\n",
    "        transforms.CenterCrop(224),\n",
    "        transforms.ToTensor(),\n",
    "        transforms.Normalize(mean=[0.485, 0.456, 0.406], std=[0.229, 0.224, 0.225]),\n",
    "    ])\n",
    "    \n",
    "    data = datasets.ImageFolder(DATA_FOLDER, transform = preprocess)\n",
    "    \n",
    "    data_size = len(data)\n",
    "    idxs = list(range(data_size))\n",
    "    \n",
    "    split = int(np.floor(split_size * data_size))\n",
    "    \n",
    "    np.random.shuffle(idxs)\n",
    "    \n",
    "    train_idx, validation_idx, test_idx = idxs[split*2:], idxs[split:split*2], idxs[:split]\n",
    "    \n",
    "    train_sampler = SubsetRandomSampler(train_idx)\n",
    "    validation_sampler = SubsetRandomSampler(validation_idx)\n",
    "    test_sampler = SubsetRandomSampler(test_idx)\n",
    "    \n",
    "    train_loader = torch.utils.data.DataLoader(data, sampler = train_sampler, batch_size=128, num_workers=8)\n",
    "    validation_loader = torch.utils.data.DataLoader(data, sampler = validation_sampler, batch_size=256, num_workers=8)\n",
    "    test_loader = torch.utils.data.DataLoader(data, sampler = test_sampler, batch_size=256, num_workers=8)\n",
    "    \n",
    "    return train_loader, validation_loader, test_loader\n",
    "\n",
    "train_loader, validation_loader, test_loader = data_load_preprocess_split(DATA_FOLDER, 0.2)\n",
    "\n",
    "print(train_loader.dataset.classes)"
   ]
  },
  {
   "cell_type": "code",
   "execution_count": null,
   "metadata": {
    "gradient": {
     "editing": false
    }
   },
   "outputs": [],
   "source": [
    "device = torch.device(\"cuda\" if torch.cuda.is_available() \n",
    "                                  else \"cpu\")"
   ]
  },
  {
   "cell_type": "code",
   "execution_count": null,
   "metadata": {
    "gradient": {
     "editing": false
    }
   },
   "outputs": [],
   "source": [
    "input_dim = 224 * 224 * 3\n",
    "output_dim = 2\n",
    "batch_size = 64\n",
    "\n",
    "model = torch.nn.Sequential(\n",
    "    torch.nn.Linear(input_dim, 1024),\n",
    "    torch.nn.BatchNorm1d(1024),\n",
    "    torch.nn.Dropout(p=0.5),\n",
    "    torch.nn.ReLU(),\n",
    "    torch.nn.Linear(1024, 512),\n",
    "    torch.nn.BatchNorm1d(512),\n",
    "    torch.nn.Dropout(p=0.5),\n",
    "    torch.nn.ReLU(),\n",
    "    torch.nn.Linear(512, 256),\n",
    "    torch.nn.BatchNorm1d(256),\n",
    "    torch.nn.Dropout(p=0.5),\n",
    "    torch.nn.ReLU(),\n",
    "    torch.nn.Linear(256, 128),\n",
    "    torch.nn.BatchNorm1d(128),\n",
    "    torch.nn.Dropout(p=0.5),\n",
    "    torch.nn.ReLU(),\n",
    "    torch.nn.Linear(128, 2)\n",
    ")\n",
    "\n",
    "# model = torch.nn.Sequential(\n",
    "#     torch.nn.Linear(input_dim, 512),\n",
    "#     torch.nn.ReLU(),\n",
    "#     torch.nn.Linear(512, 2)\n",
    "# )\n",
    "\n",
    "criterion = nn.CrossEntropyLoss()\n",
    "\n",
    "optimizer = optim.Adam(model.parameters(), lr= 0.003)\n",
    "\n",
    "# optimizer = optim.SGD(model.parameters(), lr=0.001, momentum=0.9)\n",
    "model = model.to(device)\n"
   ]
  },
  {
   "cell_type": "code",
   "execution_count": null,
   "metadata": {
    "gradient": {
     "editing": false
    }
   },
   "outputs": [
    {
     "data": {
      "text/plain": [
       "device(type='cuda')"
      ]
     },
     "execution_count": 16,
     "metadata": {},
     "output_type": "execute_result"
    }
   ],
   "source": [
    "device"
   ]
  },
  {
   "cell_type": "code",
   "execution_count": null,
   "metadata": {
    "gradient": {
     "editing": false
    }
   },
   "outputs": [
    {
     "name": "stderr",
     "output_type": "stream",
     "text": [
      "Train: 100%|██████████| 12/12 [01:19<00:00,  6.66s/it]\n",
      "Validation: 100%|██████████| 2/2 [00:31<00:00, 15.62s/it]\n",
      "Train:   0%|          | 0/12 [00:00<?, ?it/s]"
     ]
    },
    {
     "name": "stdout",
     "output_type": "stream",
     "text": [
      "Epoch 1\n",
      "Training Loss: 0.5881272628903389\t Train Accuracy: 70.73825503355705\n",
      "Validation Loss: 0.7559718489646912 \t Validation Accuracy: 70.36290322580645\n"
     ]
    },
    {
     "name": "stderr",
     "output_type": "stream",
     "text": [
      "Train: 100%|██████████| 12/12 [00:13<00:00,  1.11s/it]\n",
      "Validation: 100%|██████████| 2/2 [00:10<00:00,  5.46s/it]\n",
      "Train:   0%|          | 0/12 [00:00<?, ?it/s]"
     ]
    },
    {
     "name": "stdout",
     "output_type": "stream",
     "text": [
      "Epoch 2\n",
      "Training Loss: 0.5881302853425344\t Train Accuracy: 75.97315436241611\n",
      "Validation Loss: 0.5298258662223816 \t Validation Accuracy: 77.41935483870968\n"
     ]
    },
    {
     "name": "stderr",
     "output_type": "stream",
     "text": [
      "Train: 100%|██████████| 12/12 [00:16<00:00,  1.34s/it]\n",
      "Validation: 100%|██████████| 2/2 [00:12<00:00,  6.45s/it]\n",
      "Train:   0%|          | 0/12 [00:00<?, ?it/s]"
     ]
    },
    {
     "name": "stdout",
     "output_type": "stream",
     "text": [
      "Epoch 3\n",
      "Training Loss: 0.4266730646292369\t Train Accuracy: 80.33557046979865\n",
      "Validation Loss: 0.492795392870903 \t Validation Accuracy: 78.4274193548387\n"
     ]
    },
    {
     "name": "stderr",
     "output_type": "stream",
     "text": [
      "Train: 100%|██████████| 12/12 [00:13<00:00,  1.10s/it]\n",
      "Validation: 100%|██████████| 2/2 [00:11<00:00,  5.52s/it]\n",
      "Train:   0%|          | 0/12 [00:00<?, ?it/s]"
     ]
    },
    {
     "name": "stdout",
     "output_type": "stream",
     "text": [
      "Epoch 4\n",
      "Training Loss: 0.37507328018546104\t Train Accuracy: 82.95302013422818\n",
      "Validation Loss: 0.47244349122047424 \t Validation Accuracy: 81.25\n"
     ]
    },
    {
     "name": "stderr",
     "output_type": "stream",
     "text": [
      "Train: 100%|██████████| 12/12 [00:16<00:00,  1.35s/it]\n",
      "Validation: 100%|██████████| 2/2 [00:12<00:00,  6.18s/it]\n",
      "Train:   0%|          | 0/12 [00:00<?, ?it/s]"
     ]
    },
    {
     "name": "stdout",
     "output_type": "stream",
     "text": [
      "Epoch 5\n",
      "Training Loss: 0.33622120320796967\t Train Accuracy: 85.30201342281879\n",
      "Validation Loss: 0.35578083992004395 \t Validation Accuracy: 84.0725806451613\n"
     ]
    },
    {
     "name": "stderr",
     "output_type": "stream",
     "text": [
      "Train: 100%|██████████| 12/12 [00:13<00:00,  1.12s/it]\n",
      "Validation: 100%|██████████| 2/2 [00:11<00:00,  5.53s/it]\n",
      "Train:   0%|          | 0/12 [00:00<?, ?it/s]"
     ]
    },
    {
     "name": "stdout",
     "output_type": "stream",
     "text": [
      "Epoch 6\n",
      "Training Loss: 0.2891825499633948\t Train Accuracy: 88.32214765100672\n",
      "Validation Loss: 0.39814238250255585 \t Validation Accuracy: 81.85483870967742\n"
     ]
    },
    {
     "name": "stderr",
     "output_type": "stream",
     "text": [
      "Train: 100%|██████████| 12/12 [00:15<00:00,  1.28s/it]\n",
      "Validation: 100%|██████████| 2/2 [00:12<00:00,  6.39s/it]\n",
      "Train:   0%|          | 0/12 [00:00<?, ?it/s]"
     ]
    },
    {
     "name": "stdout",
     "output_type": "stream",
     "text": [
      "Epoch 7\n",
      "Training Loss: 0.27624039972821873\t Train Accuracy: 88.18791946308725\n",
      "Validation Loss: 0.3202604204416275 \t Validation Accuracy: 86.29032258064517\n"
     ]
    },
    {
     "name": "stderr",
     "output_type": "stream",
     "text": [
      "Train: 100%|██████████| 12/12 [00:13<00:00,  1.10s/it]\n",
      "Validation: 100%|██████████| 2/2 [00:10<00:00,  5.48s/it]\n",
      "Train:   0%|          | 0/12 [00:00<?, ?it/s]"
     ]
    },
    {
     "name": "stdout",
     "output_type": "stream",
     "text": [
      "Epoch 8\n",
      "Training Loss: 0.2480366863310337\t Train Accuracy: 90.33557046979865\n",
      "Validation Loss: 0.2985839396715164 \t Validation Accuracy: 86.69354838709677\n"
     ]
    },
    {
     "name": "stderr",
     "output_type": "stream",
     "text": [
      "Train: 100%|██████████| 12/12 [00:15<00:00,  1.31s/it]\n",
      "Validation: 100%|██████████| 2/2 [00:12<00:00,  6.10s/it]\n"
     ]
    },
    {
     "name": "stdout",
     "output_type": "stream",
     "text": [
      "1\n"
     ]
    },
    {
     "name": "stderr",
     "output_type": "stream",
     "text": [
      "Train:   0%|          | 0/12 [00:00<?, ?it/s]"
     ]
    },
    {
     "name": "stdout",
     "output_type": "stream",
     "text": [
      "Epoch 9\n",
      "Training Loss: 0.20600801395873228\t Train Accuracy: 91.34228187919463\n",
      "Validation Loss: 0.4778591990470886 \t Validation Accuracy: 85.28225806451613\n"
     ]
    },
    {
     "name": "stderr",
     "output_type": "stream",
     "text": [
      "Train: 100%|██████████| 12/12 [00:13<00:00,  1.12s/it]\n",
      "Validation: 100%|██████████| 2/2 [00:10<00:00,  5.43s/it]\n",
      "Train:   0%|          | 0/12 [00:00<?, ?it/s]"
     ]
    },
    {
     "name": "stdout",
     "output_type": "stream",
     "text": [
      "Epoch 10\n",
      "Training Loss: 0.19096236179272333\t Train Accuracy: 92.3489932885906\n",
      "Validation Loss: 0.2938603460788727 \t Validation Accuracy: 87.5\n"
     ]
    },
    {
     "name": "stderr",
     "output_type": "stream",
     "text": [
      "Train: 100%|██████████| 12/12 [00:15<00:00,  1.25s/it]\n",
      "Validation: 100%|██████████| 2/2 [00:13<00:00,  6.67s/it]\n"
     ]
    },
    {
     "name": "stdout",
     "output_type": "stream",
     "text": [
      "1\n"
     ]
    },
    {
     "name": "stderr",
     "output_type": "stream",
     "text": [
      "Train:   0%|          | 0/12 [00:00<?, ?it/s]"
     ]
    },
    {
     "name": "stdout",
     "output_type": "stream",
     "text": [
      "Epoch 11\n",
      "Training Loss: 0.1420678086578846\t Train Accuracy: 94.56375838926175\n",
      "Validation Loss: 0.36891208589076996 \t Validation Accuracy: 88.30645161290323\n"
     ]
    },
    {
     "name": "stderr",
     "output_type": "stream",
     "text": [
      "Train: 100%|██████████| 12/12 [00:13<00:00,  1.12s/it]\n",
      "Validation: 100%|██████████| 2/2 [00:10<00:00,  5.48s/it]\n"
     ]
    },
    {
     "name": "stdout",
     "output_type": "stream",
     "text": [
      "2\n"
     ]
    },
    {
     "name": "stderr",
     "output_type": "stream",
     "text": [
      "Train:   0%|          | 0/12 [00:00<?, ?it/s]"
     ]
    },
    {
     "name": "stdout",
     "output_type": "stream",
     "text": [
      "Epoch 12\n",
      "Training Loss: 0.1254614870995283\t Train Accuracy: 94.56375838926175\n",
      "Validation Loss: 0.4121399372816086 \t Validation Accuracy: 86.69354838709677\n"
     ]
    },
    {
     "name": "stderr",
     "output_type": "stream",
     "text": [
      "Train: 100%|██████████| 12/12 [00:16<00:00,  1.40s/it]\n",
      "Validation: 100%|██████████| 2/2 [00:12<00:00,  6.20s/it]\n"
     ]
    },
    {
     "name": "stdout",
     "output_type": "stream",
     "text": [
      "3\n"
     ]
    },
    {
     "name": "stderr",
     "output_type": "stream",
     "text": [
      "Train:   0%|          | 0/12 [00:00<?, ?it/s]"
     ]
    },
    {
     "name": "stdout",
     "output_type": "stream",
     "text": [
      "Epoch 13\n",
      "Training Loss: 0.09964318759739399\t Train Accuracy: 95.90604026845638\n",
      "Validation Loss: 0.418175145983696 \t Validation Accuracy: 86.49193548387096\n"
     ]
    },
    {
     "name": "stderr",
     "output_type": "stream",
     "text": [
      "Train: 100%|██████████| 12/12 [00:13<00:00,  1.11s/it]\n",
      "Validation: 100%|██████████| 2/2 [00:10<00:00,  5.40s/it]\n"
     ]
    },
    {
     "name": "stdout",
     "output_type": "stream",
     "text": [
      "4\n"
     ]
    },
    {
     "name": "stderr",
     "output_type": "stream",
     "text": [
      "Train:   0%|          | 0/12 [00:00<?, ?it/s]"
     ]
    },
    {
     "name": "stdout",
     "output_type": "stream",
     "text": [
      "Epoch 14\n",
      "Training Loss: 0.07403707442184289\t Train Accuracy: 97.04697986577182\n",
      "Validation Loss: 0.32620100677013397 \t Validation Accuracy: 90.3225806451613\n"
     ]
    },
    {
     "name": "stderr",
     "output_type": "stream",
     "text": [
      "Train: 100%|██████████| 12/12 [00:15<00:00,  1.25s/it]\n",
      "Validation: 100%|██████████| 2/2 [00:12<00:00,  6.38s/it]\n"
     ]
    },
    {
     "name": "stdout",
     "output_type": "stream",
     "text": [
      "5\n"
     ]
    },
    {
     "name": "stderr",
     "output_type": "stream",
     "text": [
      "Train:   0%|          | 0/12 [00:00<?, ?it/s]"
     ]
    },
    {
     "name": "stdout",
     "output_type": "stream",
     "text": [
      "Epoch 15\n",
      "Training Loss: 0.0733244811805586\t Train Accuracy: 97.31543624161074\n",
      "Validation Loss: 0.42467252910137177 \t Validation Accuracy: 88.30645161290323\n"
     ]
    },
    {
     "name": "stderr",
     "output_type": "stream",
     "text": [
      "Train: 100%|██████████| 12/12 [00:13<00:00,  1.09s/it]\n",
      "Validation: 100%|██████████| 2/2 [00:10<00:00,  5.23s/it]"
     ]
    },
    {
     "name": "stdout",
     "output_type": "stream",
     "text": [
      "6\n",
      "Early stopping\n",
      "Epoch 16\n",
      "Stopping model training.\n"
     ]
    },
    {
     "name": "stderr",
     "output_type": "stream",
     "text": [
      "\n"
     ]
    }
   ],
   "source": [
    "epochs = 25 \n",
    "\n",
    "train_losses, validation_losses = [], []\n",
    "\n",
    "train_accuracies, validation_accuracies = [], []\n",
    "\n",
    "# early stopping\n",
    "epochs_limit = 6\n",
    "epochs_without_improvement = 0\n",
    "min_validation_loss = np.Inf\n",
    "\n",
    "for epoch in range(epochs):\n",
    "    train_loss = 0.0\n",
    "    validation_loss = 0.0\n",
    "    \n",
    "    train_accuracy = 0\n",
    "    validation_accuracy = 0\n",
    "    \n",
    "    total_validation = 0\n",
    "    total_train = 0\n",
    "    \n",
    "    for inputs, labels in tqdm(train_loader, desc='Train'):\n",
    "        optimizer.zero_grad()\n",
    "        \n",
    "        d1, d2, d3, d4 = inputs.shape # (64, 3, 244, 244 )\n",
    "        inputs = inputs.reshape((d1, d3 * d2 * d4)) # (64, 224, 672)\n",
    "#         labels = labels.reshape((labels.shape[0], 1))\n",
    "        inputs, labels = inputs.to(device), labels.to(device)\n",
    "        \n",
    "        prediction = model(inputs)\n",
    "        \n",
    "        loss = criterion(prediction, labels)\n",
    "        \n",
    "        loss.backward()\n",
    "        \n",
    "        optimizer.step()\n",
    "        nn.utils.clip_grad_norm_(model.parameters(), max_norm=1.0)\n",
    "        optimizer.zero_grad()\n",
    "        \n",
    "        train_loss += loss.item()\n",
    "        \n",
    "        total_train += labels.shape[0]\n",
    "        train_accuracy += (prediction.argmax(dim=1) == labels).sum().item()\n",
    "        \n",
    "    train_losses.append(train_loss)\n",
    "    train_accuracies.append(100 * train_accuracy / total_train)\n",
    "\n",
    "    model.eval()  \n",
    "    \n",
    "    with torch.no_grad():\n",
    "        for inputs, labels in tqdm(validation_loader, desc='Validation'):            \n",
    "            d1, d2, d3, d4 = inputs.shape\n",
    "            inputs = inputs.reshape((d1, d3 * d2 *d4))\n",
    "#             labels = labels.reshape((labels.shape[0], 1))\n",
    "            \n",
    "            inputs, labels = inputs.to(device), labels.to(device)\n",
    "\n",
    "            prediction = model(inputs)\n",
    "\n",
    "            loss = criterion(prediction, labels)\n",
    "\n",
    "            validation_loss += loss.item()\n",
    "            total_validation += labels.shape[0]\n",
    "            validation_accuracy += (prediction.argmax(dim=1) == labels).sum().item()\n",
    "            \n",
    "    validation_losses.append(validation_loss)\n",
    "    validation_accuracies.append(100 * validation_accuracy / total_validation)\n",
    "        \n",
    "    if (validation_loss < min_validation_loss):\n",
    "        epochs_without_improvement = 0\n",
    "        min_validation_loss = validation_loss\n",
    "    elif (epoch > 5):\n",
    "        epochs_without_improvement += 1\n",
    "        print(epochs_without_improvement)\n",
    "\n",
    "    if (epoch > 5 and epochs_without_improvement >= epochs_limit):\n",
    "        print(\"Early stopping\")\n",
    "        print(f'Epoch {epoch + 1}')\n",
    "        print(\"Stopping model training.\")\n",
    "        break;\n",
    "    else:\n",
    "        torch.save(model, 'rip-fully-connected.pth')\n",
    "    \n",
    "    print(f'Epoch {epoch + 1}')\n",
    "    print(f'Training Loss: {train_loss / len(train_loader)}\\t Train Accuracy: {100 * train_accuracy / total_train}')\n",
    "    print(f'Validation Loss: {validation_loss / len(validation_loader)} \\t Validation Accuracy: {100 * validation_accuracy / total_validation}')"
   ]
  },
  {
   "cell_type": "code",
   "execution_count": null,
   "metadata": {
    "gradient": {
     "editing": false
    }
   },
   "outputs": [
    {
     "data": {
      "image/png": "[encoded data removed]",
      "text/plain": [
       "<Figure size 432x288 with 1 Axes>"
      ]
     },
     "metadata": {
      "image/png": {
       "height": 261,
       "width": 376
      },
      "needs_background": "light"
     },
     "output_type": "display_data"
    }
   ],
   "source": [
    "plt.plot(train_losses, label = 'Training loss')\n",
    "plt.plot(validation_losses, label = 'Validation loss')\n",
    "plt.xlabel(\"Epochs\")\n",
    "plt.ylabel(\"Loss\")\n",
    "plt.legend(frameon=False)\n",
    "plt.show()"
   ]
  },
  {
   "cell_type": "code",
   "execution_count": null,
   "metadata": {
    "gradient": {
     "editing": false
    }
   },
   "outputs": [
    {
     "data": {
      "image/png": "[encoded data removed]",
      "text/plain": [
       "<Figure size 432x288 with 1 Axes>"
      ]
     },
     "metadata": {
      "image/png": {
       "height": 265,
       "width": 388
      },
      "needs_background": "light"
     },
     "output_type": "display_data"
    }
   ],
   "source": [
    "plt.ylim(0, 100)\n",
    "plt.plot(train_accuracies, label = 'Training accuracy')\n",
    "plt.plot(validation_accuracies, label = 'Validation accuracy')\n",
    "plt.xlabel(\"Epochs\")\n",
    "plt.ylabel(\"Accuracy\")\n",
    "plt.legend(frameon=False)\n",
    "plt.show()"
   ]
  },
  {
   "cell_type": "code",
   "execution_count": null,
   "metadata": {
    "gradient": {
     "editing": false
    }
   },
   "outputs": [
    {
     "name": "stderr",
     "output_type": "stream",
     "text": [
      "Test: 100%|██████████| 2/2 [00:31<00:00, 15.76s/it]\n"
     ]
    }
   ],
   "source": [
    "model = torch.load('rip-fully-connected.pth')\n",
    "\n",
    "test_accuracy = 0    \n",
    "total_test = 0\n",
    "\n",
    "model.eval()  \n",
    "\n",
    "all_labels = []\n",
    "all_predictions = []\n",
    "\n",
    "with torch.no_grad():\n",
    "    for inputs, labels in tqdm(test_loader, desc='Test'):\n",
    "        d1, d2, d3, d4 = inputs.shape\n",
    "        inputs = inputs.reshape((d1, d3 * d2 *d4))\n",
    "        labels = labels.reshape((labels.shape[0], 1))\n",
    "        \n",
    "        inputs, labels = inputs.to(device), labels.to(device)\n",
    "\n",
    "        prediction = model(inputs)\n",
    "        \n",
    "        all_labels.append(labels.cpu().numpy())\n",
    "        \n",
    "        predictions = prediction.argmax(dim=1)\n",
    "        \n",
    "        all_predictions.append(predictions.cpu().numpy())\n",
    "#         loss = criterion(prediction, labels)\n",
    "\n",
    "#     total_test = labels.size(0)\n",
    "#     test_accuracy = (prediction.argmax(dim=1) == labels).sum().item()\n",
    "    \n",
    "# lista de numpy arrays -> only one list\n",
    "\n"
   ]
  },
  {
   "cell_type": "code",
   "execution_count": null,
   "metadata": {
    "gradient": {
     "editing": false
    }
   },
   "outputs": [],
   "source": [
    "all_labels = np.concatenate(all_labels,axis=0)\n",
    "all_predictions = np.concatenate(all_predictions, axis=0)"
   ]
  },
  {
   "cell_type": "code",
   "execution_count": null,
   "metadata": {
    "gradient": {
     "editing": false
    }
   },
   "outputs": [
    {
     "name": "stdout",
     "output_type": "stream",
     "text": [
      "              precision    recall  f1-score   support\n",
      "\n",
      "           0       0.93      0.92      0.92       364\n",
      "           1       0.78      0.80      0.79       132\n",
      "\n",
      "    accuracy                           0.89       496\n",
      "   macro avg       0.85      0.86      0.86       496\n",
      "weighted avg       0.89      0.89      0.89       496\n",
      "\n"
     ]
    }
   ],
   "source": [
    "clf_rep  = classification_report(all_labels, all_predictions)\n",
    "print(clf_rep)"
   ]
  },
  {
   "cell_type": "code",
   "execution_count": null,
   "metadata": {
    "gradient": {
     "editing": false
    }
   },
   "outputs": [],
   "source": []
  }
 ],
 "metadata": {
  "kernelspec": {
   "display_name": "Python 3",
   "language": "python",
   "name": "python3"
  },
  "language_info": {
   "codemirror_mode": {
    "name": "ipython",
    "version": 3
   },
   "file_extension": ".py",
   "mimetype": "text/x-python",
   "name": "python",
   "nbconvert_exporter": "python",
   "pygments_lexer": "ipython3",
   "version": "3.8.5"
  }
 },
 "nbformat": 4,
 "nbformat_minor": 4
}
