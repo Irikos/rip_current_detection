{
 "cells": [
  {
   "cell_type": "code",
   "execution_count": 1,
   "metadata": {},
   "outputs": [
    {
     "name": "stdout",
     "output_type": "stream",
     "text": [
      "Requirement already satisfied: opencv-python in /opt/conda/envs/fastai/lib/python3.8/site-packages (4.5.2.52)\n",
      "Requirement already satisfied: numpy>=1.17.3 in /opt/conda/envs/fastai/lib/python3.8/site-packages (from opencv-python) (1.19.4)\n",
      "Requirement already satisfied: resnet_pytorch in /opt/conda/envs/fastai/lib/python3.8/site-packages (0.2.0)\n",
      "Requirement already satisfied: torch in /opt/conda/envs/fastai/lib/python3.8/site-packages (from resnet_pytorch) (1.8.1)\n",
      "Requirement already satisfied: numpy in /opt/conda/envs/fastai/lib/python3.8/site-packages (from torch->resnet_pytorch) (1.19.4)\n",
      "Requirement already satisfied: typing-extensions in /opt/conda/envs/fastai/lib/python3.8/site-packages (from torch->resnet_pytorch) (3.7.4.3)\n"
     ]
    }
   ],
   "source": [
    "# installs\n",
    "!pip install opencv-python\n",
    "!pip3 install resnet_pytorch"
   ]
  },
  {
   "cell_type": "code",
   "execution_count": 2,
   "metadata": {},
   "outputs": [],
   "source": [
    "# imports%matplotlib inline\n",
    "%config InlineBackend.figure_format = 'retina'\n",
    "\n",
    "import torch\n",
    "import torchvision\n",
    "import pandas as pd\n",
    "from torch import nn\n",
    "from torch import optim\n",
    "import torch.nn.functional as F\n",
    "from torchvision import datasets, transforms, models\n",
    "from resnet_pytorch import ResNet \n",
    "\n",
    "from PIL import Image\n",
    "# import PIL.Image\n",
    "import os\n",
    "import glob\n",
    "import numpy as np\n",
    "import cv2 as cv\n",
    "import io\n",
    "from IPython.display import clear_output, display\n",
    "from tqdm import tqdm\n",
    "\n",
    "import matplotlib.pyplot as plt\n",
    "import warnings\n",
    "from torch.utils.data.sampler import SubsetRandomSampler\n",
    "from sklearn.metrics import classification_report\n",
    "\n",
    "warnings.filterwarnings('ignore')"
   ]
  },
  {
   "cell_type": "code",
   "execution_count": 3,
   "metadata": {},
   "outputs": [],
   "source": [
    "### global stuff\n",
    "# DATA_FOLDER:\n",
    "# contains data_labels.txt, with_rips folder images and without_rips folder images\n",
    "DATA_FOLDER = \"./training_data\" \n",
    "images_rip = glob.glob(os.path.join(DATA_FOLDER, \"with_rips/*.png\")) \n",
    "images_norip = glob.glob(os.path.join(DATA_FOLDER, \"without_rips/*.png\")) "
   ]
  },
  {
   "cell_type": "code",
   "execution_count": 4,
   "metadata": {},
   "outputs": [
    {
     "name": "stdout",
     "output_type": "stream",
     "text": [
      "['with_rips', 'without_rips']\n"
     ]
    }
   ],
   "source": [
    "def data_load_preprocess_split(DATA_FOLDER, split_size = 0.2):\n",
    "    preprocess_train = transforms.Compose([\n",
    "        transforms.Resize((224, 224)),\n",
    "        transforms.CenterCrop(224),\n",
    "        transforms.RandomVerticalFlip(0.5),\n",
    "        transforms.RandomHorizontalFlip(0.5),\n",
    "        transforms.RandomRotation(10),\n",
    "        transforms.ToTensor(),\n",
    "        transforms.Normalize(mean=[0.485, 0.456, 0.406], std=[0.229, 0.224, 0.225]),\n",
    "    ])\n",
    "    \n",
    "    preprocess_test = transforms.Compose([\n",
    "        transforms.Resize((224, 224)),\n",
    "        transforms.CenterCrop(224),\n",
    "        transforms.ToTensor(),\n",
    "        transforms.Normalize(mean=[0.485, 0.456, 0.406], std=[0.229, 0.224, 0.225]),\n",
    "    ])\n",
    "    \n",
    "    data = datasets.ImageFolder(DATA_FOLDER, transform = preprocess_test)\n",
    "    \n",
    "    data_size = len(data)\n",
    "    idxs = list(range(data_size))\n",
    "    \n",
    "    split = int(np.floor(split_size * data_size))\n",
    "    \n",
    "    np.random.shuffle(idxs)\n",
    "    \n",
    "    train_idx, validation_idx, test_idx = idxs[split*2:], idxs[split:split*2], idxs[:split]\n",
    "    \n",
    "    train_sampler = SubsetRandomSampler(train_idx)\n",
    "    validation_sampler = SubsetRandomSampler(validation_idx)\n",
    "    test_sampler = SubsetRandomSampler(test_idx)\n",
    "    \n",
    "    train_loader = torch.utils.data.DataLoader(data, sampler = train_sampler, batch_size=128, num_workers=8)\n",
    "    validation_loader = torch.utils.data.DataLoader(data, sampler = validation_sampler, batch_size=256, num_workers=8)\n",
    "    test_loader = torch.utils.data.DataLoader(data, sampler = test_sampler, batch_size=256, num_workers=8)\n",
    "    \n",
    "    return train_loader, validation_loader, test_loader, preprocess_train\n",
    "\n",
    "train_loader, validation_loader, test_loader, preprocess_train = data_load_preprocess_split(DATA_FOLDER, 0.2)\n",
    "\n",
    "print(train_loader.dataset.classes)"
   ]
  },
  {
   "cell_type": "code",
   "execution_count": 5,
   "metadata": {},
   "outputs": [
    {
     "data": {
      "text/plain": [
       "Dataset ImageFolder\n",
       "    Number of datapoints: 2482\n",
       "    Root location: ./training_data\n",
       "    StandardTransform\n",
       "Transform: Compose(\n",
       "               Resize(size=(224, 224), interpolation=bilinear)\n",
       "               CenterCrop(size=(224, 224))\n",
       "               ToTensor()\n",
       "               Normalize(mean=[0.485, 0.456, 0.406], std=[0.229, 0.224, 0.225])\n",
       "           )"
      ]
     },
     "execution_count": 5,
     "metadata": {},
     "output_type": "execute_result"
    }
   ],
   "source": [
    "train_loader.dataset"
   ]
  },
  {
   "cell_type": "code",
   "execution_count": 6,
   "metadata": {},
   "outputs": [
    {
     "data": {
      "text/plain": [
       "Dataset ImageFolder\n",
       "    Number of datapoints: 2482\n",
       "    Root location: ./training_data\n",
       "    StandardTransform\n",
       "Transform: Compose(\n",
       "               Resize(size=(224, 224), interpolation=bilinear)\n",
       "               CenterCrop(size=(224, 224))\n",
       "               ToTensor()\n",
       "               Normalize(mean=[0.485, 0.456, 0.406], std=[0.229, 0.224, 0.225])\n",
       "           )"
      ]
     },
     "execution_count": 6,
     "metadata": {},
     "output_type": "execute_result"
    }
   ],
   "source": [
    "test_loader.dataset"
   ]
  },
  {
   "cell_type": "code",
   "execution_count": 7,
   "metadata": {},
   "outputs": [],
   "source": [
    "device = torch.device(\"cuda\" if torch.cuda.is_available() \n",
    "                                  else \"cpu\")"
   ]
  },
  {
   "cell_type": "code",
   "execution_count": 8,
   "metadata": {},
   "outputs": [],
   "source": [
    "model = models.resnet18(pretrained=True)\n",
    "\n",
    "# model = models.resnet50(pretrained=True)\n",
    "\n",
    "# free the model\n",
    "for param in model.parameters():\n",
    "    param.requires_grad = False\n",
    "    \n",
    "# resnet-18\n",
    "model.fc = nn.Sequential(\n",
    "    nn.Linear(512, 256),\n",
    "    nn.ReLU(),\n",
    "    nn.Dropout(0.2),\n",
    "    nn.Linear(256, 2),\n",
    "    nn.LogSoftmax(dim=1)\n",
    ")\n",
    "\n",
    "# resnet-50\n",
    "# model.fc = nn.Sequential(\n",
    "#     nn.Linear(2048, 512),\n",
    "#     nn.ReLU(),\n",
    "#     nn.Dropout(0.2),\n",
    "#     nn.Linear(512, 2),\n",
    "#     nn.LogSoftmax(dim=1)\n",
    "# )\n",
    "\n",
    "criterion = nn.NLLLoss()\n",
    "optimizer = optim.Adam(model.parameters(), lr=0.003)\n",
    "# optimizer = optim.SGD(model.parameters(), lr=0.001, momentum=0.9)\n",
    "model = model.to(device)"
   ]
  },
  {
   "cell_type": "code",
   "execution_count": 9,
   "metadata": {},
   "outputs": [
    {
     "data": {
      "text/plain": [
       "device(type='cuda')"
      ]
     },
     "execution_count": 9,
     "metadata": {},
     "output_type": "execute_result"
    }
   ],
   "source": [
    "device"
   ]
  },
  {
   "cell_type": "code",
   "execution_count": 10,
   "metadata": {},
   "outputs": [
    {
     "name": "stderr",
     "output_type": "stream",
     "text": [
      "Train: 100%|██████████| 12/12 [00:14<00:00,  1.19s/it]\n",
      "Validation: 100%|██████████| 2/2 [00:11<00:00,  5.95s/it]\n",
      "Train:   0%|          | 0/12 [00:00<?, ?it/s]"
     ]
    },
    {
     "name": "stdout",
     "output_type": "stream",
     "text": [
      "Epoch 1\n",
      "Training Loss: 0.8212136526902517\t Train Accuracy: 63.624161073825505\n",
      "Validation Loss: 0.5857245326042175 \t Validation Accuracy: 70.96774193548387\n"
     ]
    },
    {
     "name": "stderr",
     "output_type": "stream",
     "text": [
      "Train: 100%|██████████| 12/12 [00:13<00:00,  1.16s/it]\n",
      "Validation: 100%|██████████| 2/2 [00:11<00:00,  5.92s/it]\n",
      "Train:   0%|          | 0/12 [00:00<?, ?it/s]"
     ]
    },
    {
     "name": "stdout",
     "output_type": "stream",
     "text": [
      "Epoch 2\n",
      "Training Loss: 0.5138047138849894\t Train Accuracy: 72.68456375838926\n",
      "Validation Loss: 0.4947734624147415 \t Validation Accuracy: 72.58064516129032\n"
     ]
    },
    {
     "name": "stderr",
     "output_type": "stream",
     "text": [
      "Train: 100%|██████████| 12/12 [00:13<00:00,  1.12s/it]\n",
      "Validation: 100%|██████████| 2/2 [00:12<00:00,  6.02s/it]\n",
      "Train:   0%|          | 0/12 [00:00<?, ?it/s]"
     ]
    },
    {
     "name": "stdout",
     "output_type": "stream",
     "text": [
      "Epoch 3\n",
      "Training Loss: 0.447786142428716\t Train Accuracy: 75.43624161073825\n",
      "Validation Loss: 0.4370056986808777 \t Validation Accuracy: 81.45161290322581\n"
     ]
    },
    {
     "name": "stderr",
     "output_type": "stream",
     "text": [
      "Train: 100%|██████████| 12/12 [00:14<00:00,  1.19s/it]\n",
      "Validation: 100%|██████████| 2/2 [00:11<00:00,  5.99s/it]\n",
      "Train:   0%|          | 0/12 [00:00<?, ?it/s]"
     ]
    },
    {
     "name": "stdout",
     "output_type": "stream",
     "text": [
      "Epoch 4\n",
      "Training Loss: 0.384911373257637\t Train Accuracy: 83.8255033557047\n",
      "Validation Loss: 0.37390103936195374 \t Validation Accuracy: 87.70161290322581\n"
     ]
    },
    {
     "name": "stderr",
     "output_type": "stream",
     "text": [
      "Train: 100%|██████████| 12/12 [00:13<00:00,  1.14s/it]\n",
      "Validation: 100%|██████████| 2/2 [00:12<00:00,  6.41s/it]\n",
      "Train:   0%|          | 0/12 [00:00<?, ?it/s]"
     ]
    },
    {
     "name": "stdout",
     "output_type": "stream",
     "text": [
      "Epoch 5\n",
      "Training Loss: 0.31505385786294937\t Train Accuracy: 87.78523489932886\n",
      "Validation Loss: 0.31244172155857086 \t Validation Accuracy: 89.51612903225806\n"
     ]
    },
    {
     "name": "stderr",
     "output_type": "stream",
     "text": [
      "Train: 100%|██████████| 12/12 [00:13<00:00,  1.13s/it]\n",
      "Validation: 100%|██████████| 2/2 [00:11<00:00,  5.95s/it]\n",
      "Train:   0%|          | 0/12 [00:00<?, ?it/s]"
     ]
    },
    {
     "name": "stdout",
     "output_type": "stream",
     "text": [
      "Epoch 6\n",
      "Training Loss: 0.25871825342377025\t Train Accuracy: 90.20134228187919\n",
      "Validation Loss: 0.27523550391197205 \t Validation Accuracy: 87.90322580645162\n"
     ]
    },
    {
     "name": "stderr",
     "output_type": "stream",
     "text": [
      "Train: 100%|██████████| 12/12 [00:13<00:00,  1.12s/it]\n",
      "Validation: 100%|██████████| 2/2 [00:11<00:00,  5.97s/it]\n",
      "Train:   0%|          | 0/12 [00:00<?, ?it/s]"
     ]
    },
    {
     "name": "stdout",
     "output_type": "stream",
     "text": [
      "Epoch 7\n",
      "Training Loss: 0.2220685382684072\t Train Accuracy: 91.74496644295301\n",
      "Validation Loss: 0.25722847878932953 \t Validation Accuracy: 89.11290322580645\n"
     ]
    },
    {
     "name": "stderr",
     "output_type": "stream",
     "text": [
      "Train: 100%|██████████| 12/12 [00:13<00:00,  1.12s/it]\n",
      "Validation: 100%|██████████| 2/2 [00:11<00:00,  5.98s/it]\n",
      "Train:   0%|          | 0/12 [00:00<?, ?it/s]"
     ]
    },
    {
     "name": "stdout",
     "output_type": "stream",
     "text": [
      "1\n",
      "Epoch 8\n",
      "Training Loss: 0.21378017589449883\t Train Accuracy: 91.54362416107382\n",
      "Validation Loss: 0.30090831220149994 \t Validation Accuracy: 87.90322580645162\n"
     ]
    },
    {
     "name": "stderr",
     "output_type": "stream",
     "text": [
      "Train: 100%|██████████| 12/12 [00:13<00:00,  1.13s/it]\n",
      "Validation: 100%|██████████| 2/2 [00:12<00:00,  6.03s/it]\n",
      "Train:   0%|          | 0/12 [00:00<?, ?it/s]"
     ]
    },
    {
     "name": "stdout",
     "output_type": "stream",
     "text": [
      "Epoch 9\n",
      "Training Loss: 0.18988898396492004\t Train Accuracy: 92.21476510067114\n",
      "Validation Loss: 0.24873116612434387 \t Validation Accuracy: 90.5241935483871\n"
     ]
    },
    {
     "name": "stderr",
     "output_type": "stream",
     "text": [
      "Train: 100%|██████████| 12/12 [00:14<00:00,  1.23s/it]\n",
      "Validation: 100%|██████████| 2/2 [00:11<00:00,  5.81s/it]\n",
      "Train:   0%|          | 0/12 [00:00<?, ?it/s]"
     ]
    },
    {
     "name": "stdout",
     "output_type": "stream",
     "text": [
      "Epoch 10\n",
      "Training Loss: 0.17210609838366508\t Train Accuracy: 93.22147651006712\n",
      "Validation Loss: 0.24388594180345535 \t Validation Accuracy: 90.12096774193549\n"
     ]
    },
    {
     "name": "stderr",
     "output_type": "stream",
     "text": [
      "Train: 100%|██████████| 12/12 [00:13<00:00,  1.11s/it]\n",
      "Validation: 100%|██████████| 2/2 [00:12<00:00,  6.13s/it]\n",
      "Train:   0%|          | 0/12 [00:00<?, ?it/s]"
     ]
    },
    {
     "name": "stdout",
     "output_type": "stream",
     "text": [
      "1\n",
      "Epoch 11\n",
      "Training Loss: 0.15559978038072586\t Train Accuracy: 94.16107382550335\n",
      "Validation Loss: 0.24503593891859055 \t Validation Accuracy: 91.33064516129032\n"
     ]
    },
    {
     "name": "stderr",
     "output_type": "stream",
     "text": [
      "Train: 100%|██████████| 12/12 [00:13<00:00,  1.13s/it]\n",
      "Validation: 100%|██████████| 2/2 [00:11<00:00,  5.86s/it]\n",
      "Train:   0%|          | 0/12 [00:00<?, ?it/s]"
     ]
    },
    {
     "name": "stdout",
     "output_type": "stream",
     "text": [
      "2\n",
      "Epoch 12\n",
      "Training Loss: 0.14306830304364362\t Train Accuracy: 94.76510067114094\n",
      "Validation Loss: 0.2519175410270691 \t Validation Accuracy: 91.12903225806451\n"
     ]
    },
    {
     "name": "stderr",
     "output_type": "stream",
     "text": [
      "Train: 100%|██████████| 12/12 [00:13<00:00,  1.14s/it]\n",
      "Validation: 100%|██████████| 2/2 [00:11<00:00,  5.91s/it]\n",
      "Train:   0%|          | 0/12 [00:00<?, ?it/s]"
     ]
    },
    {
     "name": "stdout",
     "output_type": "stream",
     "text": [
      "3\n",
      "Epoch 13\n",
      "Training Loss: 0.13927615992724895\t Train Accuracy: 95.03355704697987\n",
      "Validation Loss: 0.2609230875968933 \t Validation Accuracy: 91.33064516129032\n"
     ]
    },
    {
     "name": "stderr",
     "output_type": "stream",
     "text": [
      "Train: 100%|██████████| 12/12 [00:13<00:00,  1.11s/it]\n",
      "Validation: 100%|██████████| 2/2 [00:11<00:00,  5.97s/it]\n",
      "Train:   0%|          | 0/12 [00:00<?, ?it/s]"
     ]
    },
    {
     "name": "stdout",
     "output_type": "stream",
     "text": [
      "4\n",
      "Epoch 14\n",
      "Training Loss: 0.12782157647113004\t Train Accuracy: 95.70469798657719\n",
      "Validation Loss: 0.2568286582827568 \t Validation Accuracy: 90.9274193548387\n"
     ]
    },
    {
     "name": "stderr",
     "output_type": "stream",
     "text": [
      "Train: 100%|██████████| 12/12 [00:13<00:00,  1.16s/it]\n",
      "Validation: 100%|██████████| 2/2 [00:11<00:00,  5.97s/it]\n",
      "Train:   0%|          | 0/12 [00:00<?, ?it/s]"
     ]
    },
    {
     "name": "stdout",
     "output_type": "stream",
     "text": [
      "5\n",
      "Epoch 15\n",
      "Training Loss: 0.12008210271596909\t Train Accuracy: 96.51006711409396\n",
      "Validation Loss: 0.25192708522081375 \t Validation Accuracy: 90.3225806451613\n"
     ]
    },
    {
     "name": "stderr",
     "output_type": "stream",
     "text": [
      "Train: 100%|██████████| 12/12 [00:13<00:00,  1.13s/it]\n",
      "Validation: 100%|██████████| 2/2 [00:11<00:00,  5.82s/it]"
     ]
    },
    {
     "name": "stdout",
     "output_type": "stream",
     "text": [
      "6\n",
      "Early stopping\n",
      "Epoch 16\n",
      "Stopping model training.\n"
     ]
    },
    {
     "name": "stderr",
     "output_type": "stream",
     "text": [
      "\n"
     ]
    }
   ],
   "source": [
    "epochs = 25 \n",
    "\n",
    "train_losses, validation_losses = [], []\n",
    "\n",
    "train_accuracies, validation_accuracies = [], []\n",
    "\n",
    "# early stopping\n",
    "epochs_limit = 6\n",
    "epochs_without_improvement = 0\n",
    "min_validation_loss = np.Inf\n",
    "\n",
    "for epoch in range(epochs):\n",
    "    train_loss = 0.0\n",
    "    validation_loss = 0.0\n",
    "    \n",
    "    train_accuracy = 0\n",
    "    validation_accuracy = 0\n",
    "    \n",
    "    total_validation = 0\n",
    "    total_train = 0\n",
    "    \n",
    "    train_loader.dataset.Transform = preprocess_train\n",
    "    for inputs, labels in tqdm(train_loader, desc='Train'):\n",
    "        inputs, labels = inputs.to(device), labels.to(device)\n",
    "        optimizer.zero_grad()\n",
    "        \n",
    "        prediction = model(inputs.to(device))\n",
    "        \n",
    "        loss = criterion(prediction, labels)\n",
    "        \n",
    "        loss.backward()\n",
    "        optimizer.step()\n",
    "        \n",
    "        train_loss += loss.item()\n",
    "        \n",
    "        total_train += labels.size(0)\n",
    "        train_accuracy += (prediction.argmax(dim=1) == labels).sum().item()\n",
    "        \n",
    "    train_losses.append(train_loss)\n",
    "    train_accuracies.append(100 * train_accuracy / total_train)\n",
    "\n",
    "    model.eval()  \n",
    "    \n",
    "    with torch.no_grad():\n",
    "        for inputs, labels in tqdm(validation_loader, desc='Validation'):\n",
    "            inputs, labels = inputs.to(device), labels.to(device)\n",
    "\n",
    "            prediction = model(inputs)\n",
    "\n",
    "            loss = criterion(prediction, labels)\n",
    "\n",
    "            validation_loss += loss.item()\n",
    "            total_validation += labels.size(0)\n",
    "            validation_accuracy += (prediction.argmax(dim=1) == labels).sum().item()\n",
    "            \n",
    "    validation_losses.append(validation_loss)\n",
    "    validation_accuracies.append(100 * validation_accuracy / total_validation)\n",
    "        \n",
    "    if (validation_loss < min_validation_loss):\n",
    "        epochs_without_improvement = 0\n",
    "        min_validation_loss = validation_loss\n",
    "    elif (epoch > 5):\n",
    "        epochs_without_improvement += 1\n",
    "        print(epochs_without_improvement)\n",
    "\n",
    "    if (epoch > 5 and epochs_without_improvement >= epochs_limit):\n",
    "        print(\"Early stopping\")\n",
    "        print(f'Epoch {epoch + 1}')\n",
    "        print(\"Stopping model training.\")\n",
    "        break;\n",
    "    else:\n",
    "        torch.save(model, 'rip-resnet18-adam-full.pth')\n",
    "    \n",
    "    print(f'Epoch {epoch + 1}')\n",
    "    print(f'Training Loss: {train_loss / len(train_loader)}\\t Train Accuracy: {100 * train_accuracy / total_train}')\n",
    "    print(f'Validation Loss: {validation_loss / len(validation_loader)} \\t Validation Accuracy: {100 * validation_accuracy / total_validation}')"
   ]
  },
  {
   "cell_type": "code",
   "execution_count": 11,
   "metadata": {},
   "outputs": [
    {
     "data": {
      "image/png": "[encoded data removed]",
      "text/plain": [
       "<Figure size 432x288 with 1 Axes>"
      ]
     },
     "metadata": {
      "image/png": {
       "height": 261,
       "width": 382
      },
      "needs_background": "light"
     },
     "output_type": "display_data"
    }
   ],
   "source": [
    "plt.plot(train_losses, label = 'Training loss')\n",
    "plt.plot(validation_losses, label = 'Validation loss')\n",
    "plt.xlabel(\"Epochs\")\n",
    "plt.ylabel(\"Loss\")\n",
    "plt.legend(frameon=False)\n",
    "plt.show()"
   ]
  },
  {
   "cell_type": "code",
   "execution_count": 12,
   "metadata": {},
   "outputs": [
    {
     "data": {
      "image/png": "[encoded data removed]",
      "text/plain": [
       "<Figure size 432x288 with 1 Axes>"
      ]
     },
     "metadata": {
      "image/png": {
       "height": 265,
       "width": 388
      },
      "needs_background": "light"
     },
     "output_type": "display_data"
    }
   ],
   "source": [
    "plt.ylim(0, 100)\n",
    "plt.plot(train_accuracies, label = 'Training accuracy')\n",
    "plt.plot(validation_accuracies, label = 'Validation accuracy')\n",
    "plt.xlabel(\"Epochs\")\n",
    "plt.ylabel(\"Accuracy\")\n",
    "plt.legend(frameon=False)\n",
    "plt.show()"
   ]
  },
  {
   "cell_type": "code",
   "execution_count": 13,
   "metadata": {},
   "outputs": [
    {
     "name": "stderr",
     "output_type": "stream",
     "text": [
      "Test: 100%|██████████| 2/2 [00:11<00:00,  5.77s/it]\n"
     ]
    }
   ],
   "source": [
    "model = torch.load('rip-resnet18-adam-full.pth')\n",
    "\n",
    "test_accuracy = 0    \n",
    "total_test = 0\n",
    "\n",
    "model.eval()  \n",
    "\n",
    "all_labels = []\n",
    "all_predictions = []\n",
    "\n",
    "with torch.no_grad():\n",
    "    for inputs, labels in tqdm(test_loader, desc='Test'):\n",
    "        inputs, labels = inputs.to(device), labels.to(device)\n",
    "\n",
    "        prediction = model(inputs)\n",
    "        all_labels.append(labels.cpu().numpy())\n",
    "        \n",
    "        predictions = prediction.argmax(dim=1)\n",
    "        \n",
    "        all_predictions.append(predictions.cpu().numpy())\n",
    "#         loss = criterion(prediction, labels)\n",
    "\n",
    "#     total_test = labels.size(0)\n",
    "#     test_accuracy = (prediction.argmax(dim=1) == labels).sum().item()\n",
    "    \n",
    "# lista de numpy arrays -> only one list\n",
    "\n"
   ]
  },
  {
   "cell_type": "code",
   "execution_count": 14,
   "metadata": {},
   "outputs": [],
   "source": [
    "all_labels = np.concatenate(all_labels,axis=0)\n",
    "all_predictions = np.concatenate(all_predictions, axis=0)"
   ]
  },
  {
   "cell_type": "code",
   "execution_count": 15,
   "metadata": {},
   "outputs": [
    {
     "name": "stdout",
     "output_type": "stream",
     "text": [
      "              precision    recall  f1-score   support\n",
      "\n",
      "           0       0.94      0.93      0.93       351\n",
      "           1       0.83      0.86      0.84       145\n",
      "\n",
      "    accuracy                           0.91       496\n",
      "   macro avg       0.88      0.89      0.89       496\n",
      "weighted avg       0.91      0.91      0.91       496\n",
      "\n"
     ]
    }
   ],
   "source": [
    "\n",
    "clf_rep  = classification_report(all_labels, all_predictions)\n",
    "\n",
    "print(clf_rep)"
   ]
  },
  {
   "cell_type": "markdown",
   "metadata": {},
   "source": [
    "# Fully Connected"
   ]
  },
  {
   "cell_type": "code",
   "execution_count": null,
   "metadata": {},
   "outputs": [],
   "source": []
  },
  {
   "cell_type": "code",
   "execution_count": null,
   "metadata": {},
   "outputs": [],
   "source": []
  },
  {
   "cell_type": "code",
   "execution_count": null,
   "metadata": {},
   "outputs": [],
   "source": []
  }
 ],
 "metadata": {
  "kernelspec": {
   "display_name": "Python 3",
   "language": "python",
   "name": "python3"
  },
  "language_info": {
   "codemirror_mode": {
    "name": "ipython",
    "version": 3
   },
   "file_extension": ".py",
   "mimetype": "text/x-python",
   "name": "python",
   "nbconvert_exporter": "python",
   "pygments_lexer": "ipython3",
   "version": "3.8.5"
  }
 },
 "nbformat": 4,
 "nbformat_minor": 4
}
